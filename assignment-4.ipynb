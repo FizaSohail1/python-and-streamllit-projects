{
  "nbformat": 4,
  "nbformat_minor": 0,
  "metadata": {
    "colab": {
      "provenance": [],
      "authorship_tag": "ABX9TyN52o7pKgSVoWAxPlpmxhh8",
      "include_colab_link": true
    },
    "kernelspec": {
      "name": "python3",
      "display_name": "Python 3"
    },
    "language_info": {
      "name": "python"
    }
  },
  "cells": [
    {
      "cell_type": "markdown",
      "metadata": {
        "id": "view-in-github",
        "colab_type": "text"
      },
      "source": [
        "<a href=\"https://colab.research.google.com/github/FizaSohail1/python-and-streamllit-projects/blob/main/assignment-4.ipynb\" target=\"_parent\"><img src=\"https://colab.research.google.com/assets/colab-badge.svg\" alt=\"Open In Colab\"/></a>"
      ]
    },
    {
      "cell_type": "markdown",
      "source": [
        "# Assignment 00 - 05"
      ],
      "metadata": {
        "id": "rO4jk0XZdVRE"
      }
    },
    {
      "cell_type": "markdown",
      "source": [
        "00-**Intro_python**"
      ],
      "metadata": {
        "id": "gAYwrP8JkvIc"
      }
    },
    {
      "cell_type": "code",
      "execution_count": null,
      "metadata": {
        "id": "MoE8X3W1dRGI"
      },
      "outputs": [],
      "source": [
        "# add two numbers\n",
        "\n",
        "def main():\n",
        " num1: str = input(\"Enter 1 number: \")\n",
        " num1 :int = int(num1)\n",
        " num2: str = input(\"Enter 2 number: \")\n",
        " num2: int = int(num2)\n",
        "\n",
        " result = num1 + num2\n",
        "\n",
        " print(f\"Here is the result:\" + str(result))\n",
        "\n",
        "if __name__ == '__main__':\n",
        " main()"
      ]
    },
    {
      "cell_type": "code",
      "source": [
        "# agreement bot\n",
        "\n",
        "def main():\n",
        "    user_input = input(\"What's your favorite animal? \")\n",
        "\n",
        "    print(f\"\\nYour favorite animal is also {user_input}!\")\n",
        "\n",
        "if __name__ == '__main__':\n",
        "    main()\n",
        ""
      ],
      "metadata": {
        "id": "JyiduRRTtkM9"
      },
      "execution_count": null,
      "outputs": []
    },
    {
      "cell_type": "code",
      "source": [
        "#fahrenieite to calcius\n",
        "\n",
        "def main():\n",
        "    temprature_fahrenhite = input(\"Enter temperature in Fahrenheit: \")\n",
        "    temprature_fahrenhite = float(temprature_fahrenhite)\n",
        "    degree_celsius = (temprature_fahrenhite - 32)*5.0/9.0\n",
        "\n",
        "    print(f\"Temprature: {temprature_fahrenhite}F = {degree_celsius}C\")\n",
        "\n",
        "if __name__ == '__main__':\n",
        "    main()"
      ],
      "metadata": {
        "id": "CD4jXv4jt1Ri"
      },
      "execution_count": null,
      "outputs": []
    },
    {
      "cell_type": "code",
      "source": [
        "# Age riddle\n",
        "\n",
        "def main():\n",
        "    anthon:int = 21\n",
        "    Beth:int = 6 + anthon\n",
        "    Chen : int = 20 + Beth\n",
        "    Drew: int = Chen + anthon\n",
        "    Ethan = Chen\n",
        "\n",
        "    print(\"Anthon is \" + str(anthon))\n",
        "    print(\"Beth is \" + str(Beth))\n",
        "    print(\"Chen is \" + str(Chen))\n",
        "    print(\"Drew is \" + str(Drew))\n",
        "    print(\"Ethan is \" + str(Ethan))\n",
        "\n",
        "if __name__ == '__main__':\n",
        "    main()\n"
      ],
      "metadata": {
        "id": "Vqho9qzmuAt7"
      },
      "execution_count": null,
      "outputs": []
    },
    {
      "cell_type": "code",
      "source": [
        "# Triangle perimeter\n",
        "\n",
        "bold_italic = \"\\033[1;3m\" #Ansi escape code\n",
        "reset = \"\\033[0m\"\n",
        "\n",
        "def main():\n",
        "\n",
        " side1 = float(input(f\"{bold_italic}Enter first side: {reset}\"))\n",
        " side2 = float(input(f\"{bold_italic}Enter second side: {reset}\"))\n",
        " side3 = float(input(f\"{bold_italic}Enter third side: {reset}\"))\n",
        "\n",
        " perimeter = side1 + side2 + side3\n",
        " print(f\"\\nThe sum of the three sides of the triangle is: {perimeter}\")\n",
        "\n",
        "if __name__ == '__main__':\n",
        " main()\n"
      ],
      "metadata": {
        "id": "YG5ZBIcIuGJf"
      },
      "execution_count": null,
      "outputs": []
    },
    {
      "cell_type": "code",
      "source": [
        "#square number\n",
        "\n",
        "def main():\n",
        "\n",
        " num = float(input(f\"Type a number to see its square: \"))\n",
        "\n",
        " print(str(num) + \" squared is \" + str(num ** 2))\n",
        "\n",
        "if __name__ == '__main__':\n",
        " main()\n",
        "\n"
      ],
      "metadata": {
        "id": "xgJahC0muRG6"
      },
      "execution_count": null,
      "outputs": []
    },
    {
      "cell_type": "markdown",
      "source": [
        "**01_Expressions**"
      ],
      "metadata": {
        "id": "WBe5I4teuf0Y"
      }
    },
    {
      "cell_type": "code",
      "source": [
        "# dicesimulator\n",
        "\n",
        "import random\n",
        "\n",
        "sides:int = 6\n",
        "\n",
        "def roll_dice():\n",
        "    \"Simulates the two dice and prints their total\"\n",
        "    dice1: int = random.randint(1,sides)\n",
        "    dice2: int = random.randint(1,sides)\n",
        "    result = dice1 + dice2\n",
        "\n",
        "    print(f\"Total of two dice: {result}\")\n",
        "\n",
        "def main():\n",
        "    dice1 : int = 10\n",
        "    print(\"Die 1 in main() starts as: \" + str(dice1))\n",
        "    roll_dice()\n",
        "    roll_dice()\n",
        "    roll_dice()\n",
        "\n",
        "    print(\"Die 1 in main() is: \" + str(dice1))\n",
        "\n",
        "if __name__ == '__main__':\n",
        "    main()"
      ],
      "metadata": {
        "id": "pOiURitNukhY"
      },
      "execution_count": null,
      "outputs": []
    },
    {
      "cell_type": "code",
      "source": [
        "# Einstine Mass energy\n",
        "\n",
        "\n",
        "C = 299792458\n",
        "\n",
        "def main():\n",
        "    mass = float(input(\"Enter kilos of mass: \"))\n",
        "\n",
        "    E:float = mass * ( C ** 2)\n",
        "\n",
        "    print(\"e * C^2\")\n",
        "    print(f\"m = {mass} Kg\")\n",
        "    print(str(E) + \" joules of energy!\")\n",
        "\n",
        "if __name__ == '__main__':\n",
        "    main()"
      ],
      "metadata": {
        "id": "xkJWuXXRuyq3"
      },
      "execution_count": null,
      "outputs": []
    },
    {
      "cell_type": "code",
      "source": [
        "#Feet to inches\n",
        "\n",
        "INCHES_IN_FOOT: int = 12\n",
        "\n",
        "def main():\n",
        "    feet : float = float(input(\"Number of Feets: \"))\n",
        "    result: float = feet * INCHES_IN_FOOT\n",
        "    print(F\"This is {result} inches!\")\n",
        "\n",
        "if __name__ == \"__main__\":\n",
        "    main()"
      ],
      "metadata": {
        "id": "DwG9LbzevHoo"
      },
      "execution_count": null,
      "outputs": []
    },
    {
      "cell_type": "code",
      "source": [
        "# pythogorean theorem\n",
        "\n",
        "import math\n",
        "\n",
        "def main():\n",
        "    print(\"The Pythagon Theorem\")\n",
        "\n",
        "    ab : float = float(input(\"\\nEnter the length of AB: \"))\n",
        "    ac: float = float(input(\"\\nEnter the length AC: \"))\n",
        "    bc:float = math.sqrt(ab **2 + ac **2)\n",
        "    print(f\"\\nThe length of side BC (the hypothenuse) is: {bc}\")\n",
        "\n",
        "if __name__ == '__main__':\n",
        "    main()"
      ],
      "metadata": {
        "id": "Sq61uiPnvLwh"
      },
      "execution_count": null,
      "outputs": []
    },
    {
      "cell_type": "code",
      "source": [
        "#Division of two numbers\n",
        "\n",
        "def main():\n",
        "    num1: int = int(input(\"Enter an integer to be divided: \"))\n",
        "    num2:int = int(input(\"Enter an integer to divided by: \"))\n",
        "\n",
        "    division:int = num1 // num2\n",
        "    reminder: int = num1 % num2\n",
        "\n",
        "    print(\"\\nThe result of this division is \"+ str(division) + \" with the reminder \"+ str(reminder))\n",
        "\n",
        "if __name__ == '__main__':\n",
        "    main()\n"
      ],
      "metadata": {
        "id": "dSXJdk_cvSbZ"
      },
      "execution_count": null,
      "outputs": []
    },
    {
      "cell_type": "code",
      "source": [
        "#simulates rolling two dice and print result of each roll as well as total\n",
        "\n",
        "import random\n",
        "\n",
        "sides:int = 6\n",
        "\n",
        "def main():\n",
        "    dice1: int = random.randint(1,sides)\n",
        "    dice2: int = random.randint(1,sides)\n",
        "    result = dice1 + dice2\n",
        "    print(f\"\\nDice has {sides} sides each! \")\n",
        "    print(f\"\\nDice 1: {dice1}\")\n",
        "    print(f\"Dice 2: {dice2}\")\n",
        "    print(f\"\\nTotal of two dice: {result}\")\n",
        "\n",
        "if __name__ == '__main__':\n",
        "    main()"
      ],
      "metadata": {
        "id": "X62Y519kvffy"
      },
      "execution_count": null,
      "outputs": []
    },
    {
      "cell_type": "code",
      "source": [
        "#mad libs\n",
        "\n",
        "def main():\n",
        "    adjective:str = str(input(\"Enter an adjective: \"))\n",
        "    verb :str = str(input(\"Enter a verb: \"))\n",
        "    noun:str = str(input(\"Enter a noun: \"))\n",
        "\n",
        "    SENTENCE = f'The {adjective} cat loves to {verb} in the {noun}!'\n",
        "\n",
        "    print(\"\\n\",SENTENCE)\n",
        "\n",
        "if __name__ == '__main__':\n",
        "    main()\n",
        ""
      ],
      "metadata": {
        "id": "HKs6aMBTvgoo"
      },
      "execution_count": null,
      "outputs": []
    },
    {
      "cell_type": "code",
      "source": [
        "#Secounds in year\n",
        "\n",
        "DAYS_IN_YEAR = 365\n",
        "HOURS_PER_DAY= 24\n",
        "MINTS_PER_HOUR = 60\n",
        "SECS_PER_HOUR = 60\n",
        "\n",
        "def main():\n",
        "    print(f\"There are {DAYS_IN_YEAR * HOURS_PER_DAY * MINTS_PER_HOUR * SECS_PER_HOUR} secounds in a year!\")\n",
        "\n",
        "if __name__ == '__main__':\n",
        "    main()"
      ],
      "metadata": {
        "id": "rz2W-M1avlDV"
      },
      "execution_count": null,
      "outputs": []
    },
    {
      "cell_type": "markdown",
      "source": [
        "**02_List**"
      ],
      "metadata": {
        "id": "zfjOjXkKvyV2"
      }
    },
    {
      "cell_type": "code",
      "source": [
        "# Add numbers\n",
        "\n",
        "def add_numbers(num_list):\n",
        "\n",
        "    total : int =0\n",
        "\n",
        "    for number in num_list:\n",
        "        total += number\n",
        "\n",
        "    return total\n",
        "\n",
        "def main():\n",
        "    numbers:list[int] = [1,2,3,4,5]\n",
        "    sum_of_nums = add_numbers(numbers)\n",
        "\n",
        "    print(sum_of_nums)\n",
        "\n",
        "if __name__ == '__main__':\n",
        "    main()\n"
      ],
      "metadata": {
        "id": "MTh3O2KIv4GL"
      },
      "execution_count": null,
      "outputs": []
    },
    {
      "cell_type": "code",
      "source": [
        "# Double list\n",
        "\n",
        "def main():\n",
        "    num_list:list[int] = [1,2,3,4,5]\n",
        "    #List comperihension [new_item for item in itereble]\n",
        "    double = [num * 2 for num in num_list]\n",
        "    print(\"\\nThis program prints the double of each element in list\")\n",
        "    return print(\"\\n\",double)\n",
        "\n",
        "if __name__ == '__main__':\n",
        "    main()\n",
        "\n"
      ],
      "metadata": {
        "id": "JSaBdveqv8j_"
      },
      "execution_count": null,
      "outputs": []
    },
    {
      "cell_type": "code",
      "source": [
        "# copy message\n",
        "\n",
        "def add_copies(my_list,list_data):\n",
        "    for i in range(3):\n",
        "       my_list.append(list_data)\n",
        "\n",
        "def main():\n",
        "    message = input(\"Enter a message you want to copy: \")\n",
        "    my_list = []\n",
        "    add_copies(my_list , message)\n",
        "    print(f\"\\n {my_list}\")\n",
        "\n",
        "if __name__ == '__main__':\n",
        "    main()\n",
        "\n"
      ],
      "metadata": {
        "id": "PBlQ0bn4wA7R"
      },
      "execution_count": null,
      "outputs": []
    },
    {
      "cell_type": "code",
      "source": [
        "# prints the first element of list\n",
        "def get_First_element(lst):\n",
        "    print(lst[0])\n",
        "\n",
        "def get_lst():\n",
        "    lst = []\n",
        "    element = input(\"Enter an element for list or press enter to stop: \")\n",
        "    while element != \"\":\n",
        "        lst.append(element)\n",
        "        element = input(\"Enter an element for list or press enter to stop: \")\n",
        "\n",
        "    return lst\n",
        "\n",
        "def main():\n",
        "    lst = get_lst()\n",
        "    get_First_element(lst)\n",
        "\n",
        "if __name__ == '__main__':\n",
        "    main()"
      ],
      "metadata": {
        "id": "W9aKo7gCwE6i"
      },
      "execution_count": null,
      "outputs": []
    },
    {
      "cell_type": "code",
      "source": [
        "# get last element of the list\n",
        "\n",
        "def get_last_element(last):\n",
        "    print(last[-1])\n",
        "\n",
        "def get_lst():\n",
        "    \"\"\" Prompts the user to enter one element of the list at a time and returns the resulting list. \"\"\"\n",
        "    lst = []\n",
        "    element = input(\"Enter an element for list or press enter to stop: \")\n",
        "    while element != \"\":\n",
        "        lst.append(element)\n",
        "        element = input(\"Enter an element for list or press enter to stop: \")\n",
        "\n",
        "    return lst\n",
        "\n",
        "def main():\n",
        "    lst = get_lst()\n",
        "    get_last_element(lst)\n",
        "\n",
        "if __name__ == '__main__':\n",
        "    main()"
      ],
      "metadata": {
        "id": "URjqfAjHwL2Y"
      },
      "execution_count": null,
      "outputs": []
    },
    {
      "cell_type": "code",
      "source": [
        "# get last element of the list\n",
        "\n",
        "\n",
        "def main():\n",
        "    my_list = []\n",
        "    element = input(\"Enter an element for list or press enter to stop: \")\n",
        "    while element != \"\":\n",
        "        my_list.append(element)\n",
        "        element = input(\"Enter an element for list or press enter to stop: \")\n",
        "\n",
        "    return print(\"Here is the List: \",my_list)\n",
        "\n",
        "if __name__ == '__main__':\n",
        "    main()"
      ],
      "metadata": {
        "id": "aMLu8KlzwNCv"
      },
      "execution_count": null,
      "outputs": []
    },
    {
      "cell_type": "code",
      "source": [
        "#shorten\n",
        "max_length = 3\n",
        "\n",
        "def shorten(lst):\n",
        "    while len(lst) > max_length:\n",
        "        last_element = lst.pop()\n",
        "        print(last_element)\n",
        "\n",
        "def get_lst():\n",
        "    \"\"\" Prompts the user to enter one element of the list at a time and returns the resulting list. \"\"\"\n",
        "    lst = []\n",
        "    element = input(\"Enter an element for list or press enter to stop: \")\n",
        "    while element != \"\":\n",
        "        lst.append(element)\n",
        "        element = input(\"Enter an element for list or press enter to stop: \")\n",
        "\n",
        "    return lst\n",
        "\n",
        "def main():\n",
        "    lst = get_lst()\n",
        "    shorten(lst)\n",
        "\n",
        "if __name__ == '__main__':\n",
        "    main()"
      ],
      "metadata": {
        "id": "SJbKt2KXwPmm"
      },
      "execution_count": null,
      "outputs": []
    },
    {
      "cell_type": "markdown",
      "source": [
        "**03_if_statements**"
      ],
      "metadata": {
        "id": "Oi_zft7vwWkz"
      }
    },
    {
      "cell_type": "code",
      "source": [
        "# Even numbers\n",
        "\n",
        "def main():\n",
        "    for i in range(20):\n",
        "        print(i*2)\n",
        "\n",
        "if __name__ == '__main__':\n",
        "    main()\n"
      ],
      "metadata": {
        "id": "X5DL_NX3weGO"
      },
      "execution_count": null,
      "outputs": []
    },
    {
      "cell_type": "code",
      "source": [
        "#International voting age\n",
        "\n",
        "PETURKSBOUIPO_AGE: int = 16\n",
        "MAYENGUA_AGE: int = 48\n",
        "STANLAU: int = 25\n",
        "\n",
        "def main():\n",
        "\n",
        "    user_input = int(input(\"How old are you? \"))\n",
        "\n",
        "    if user_input >= PETURKSBOUIPO_AGE:\n",
        "        print(\"\\nYou can vote in peturksbouipo where the voting age is \" + str(PETURKSBOUIPO_AGE))\n",
        "    else:\n",
        "        print(\"You cannot vote in peturksbouipo where the voting age is \" + str(PETURKSBOUIPO_AGE))\n",
        "\n",
        "    if user_input >= MAYENGUA_AGE:\n",
        "        print(\"\\nYou can vote in MAYENGUA_AGE where the voting age is \" + str(MAYENGUA_AGE))\n",
        "    else:\n",
        "        print(\"You cannot vote in MAYENGUA_AGE where the voting age is \" + str(MAYENGUA_AGE))\n",
        "    if user_input >= STANLAU:\n",
        "        print(\"\\nYou can vote in STANLAU where the voting age is \" + str(STANLAU))\n",
        "    else:\n",
        "        print(\"You cannot vote in STANLAU where the voting age is \" + str(STANLAU))\n",
        "\n",
        "\n",
        "if __name__ == '__main__':\n",
        "    main()"
      ],
      "metadata": {
        "id": "3EwG0ZtBwkgC"
      },
      "execution_count": null,
      "outputs": []
    },
    {
      "cell_type": "code",
      "source": [
        "#check the leap year\n",
        "\n",
        "def main():\n",
        "\n",
        "    year = int(input('Input a year: '))\n",
        "\n",
        "    if year % 4 == 0:\n",
        "        if year % 100 == 0:\n",
        "            if year % 400 == 0:\n",
        "                print(\"This is a leap year!\")\n",
        "            else:\n",
        "                print(\"That's not a leap year\")\n",
        "\n",
        "        else:\n",
        "            print(\"That's a leap year!\")\n",
        "    else:\n",
        "        print(\"That's not a leap year.\")\n",
        "\n",
        "\n",
        "if __name__ == '__main__':\n",
        "    main()\n"
      ],
      "metadata": {
        "id": "ngrASb_6woGe"
      },
      "execution_count": null,
      "outputs": []
    },
    {
      "cell_type": "code",
      "source": [
        "# height check\n",
        "\n",
        "def main():\n",
        "\n",
        "    min_height:int = 30\n",
        "\n",
        "    user_height = float(input(\"What's your height? \"))\n",
        "    if user_height >= min_height:\n",
        "        print(\"You're tall enough to ride!\")\n",
        "\n",
        "    else:\n",
        "        print(\"You're not tall enough to ride! may be next time!\")\n",
        "\n",
        "if __name__ == '__main__':\n",
        "    main()\n",
        "\n"
      ],
      "metadata": {
        "id": "sehGsmf3wvgP"
      },
      "execution_count": null,
      "outputs": []
    },
    {
      "cell_type": "code",
      "source": [
        "#print random numbers in the range of 10\n",
        "import random\n",
        "\n",
        "def main():\n",
        "    for i in range(10):\n",
        "        random_numbers = random.randint(1,100)\n",
        "        print(random_numbers)\n",
        "\n",
        "if __name__ == '__main__':\n",
        "    main()"
      ],
      "metadata": {
        "id": "8PMyIJVgxDQV"
      },
      "execution_count": null,
      "outputs": []
    },
    {
      "cell_type": "markdown",
      "source": [
        "**04_Dictonaries**"
      ],
      "metadata": {
        "id": "_UpsThmGxSMs"
      }
    },
    {
      "cell_type": "code",
      "source": [
        "# count numbers\n",
        "def get_numbers():\n",
        "\n",
        "    user_numbers = []\n",
        "\n",
        "    while True:\n",
        "        user_input = input(\"Enter a number or press enter to stop: \")\n",
        "\n",
        "        if user_input == \"\":\n",
        "            break\n",
        "\n",
        "        num = int(user_input)\n",
        "        user_numbers.append(num)\n",
        "\n",
        "    return user_numbers\n",
        "\n",
        "def count_nums(num_lst):\n",
        "    num_dict = {}\n",
        "    for num in num_lst:\n",
        "        if num not in num_dict:\n",
        "            num_dict[num] = 1\n",
        "        else:\n",
        "            num_dict[num] += 1\n",
        "    return num_dict\n",
        "\n",
        "def print_counts(num_dict):\n",
        "    for num in num_dict:\n",
        "        print(str(num) + \" appears \" + str(num_dict[num]) + \" times. \")\n",
        "\n",
        "def main():\n",
        "    user_numbers = get_numbers()\n",
        "    num_dict = count_nums(user_numbers)\n",
        "    print_counts(num_dict)\n",
        "\n",
        "\n",
        "if __name__ == '__main__':\n",
        "    main()\n",
        "\n",
        "\n"
      ],
      "metadata": {
        "id": "F-DJ8UZoxclC"
      },
      "execution_count": null,
      "outputs": []
    },
    {
      "cell_type": "code",
      "source": [
        "# phonebook\n",
        "\n",
        "def read_phonebook():\n",
        "    phonebook = {}\n",
        "\n",
        "    while True:\n",
        "        name = input(\"Enter name (or press Enter to stop): \").strip()\n",
        "        if not name:\n",
        "            break\n",
        "        number = input(f\"Enter number for {name}: \").strip()\n",
        "        phonebook[name.lower()] = number  # Store names in lowercase for easy lookup\n",
        "\n",
        "    return phonebook\n",
        "\n",
        "def lookup_number(phonebook):\n",
        "    while True:\n",
        "        name = input(\"Enter name to look up (or press Enter to stop): \").strip().lower()\n",
        "        if not name:\n",
        "            break\n",
        "        if name in phonebook:\n",
        "            print(f\"{name.capitalize()}: {phonebook[name]}\")\n",
        "        else:\n",
        "            print(f\"{name.capitalize()} is not in the phonebook.\")\n",
        "\n",
        "def main():\n",
        "    phonebook = read_phonebook()\n",
        "    print(\"\\n📖 Phonebook:\")\n",
        "    for name, number in phonebook.items():\n",
        "        print(f\"{name.capitalize()}: {number}\")\n",
        "\n",
        "    lookup_number(phonebook)\n",
        "\n",
        "if __name__ == \"__main__\":\n",
        "    main()\n"
      ],
      "metadata": {
        "id": "hs-Sjr_mxj3g"
      },
      "execution_count": null,
      "outputs": []
    },
    {
      "cell_type": "code",
      "source": [
        "# shop\n",
        "\n",
        "def main():\n",
        "\n",
        "    fruits = {'apple': 5, 'mango':10, 'kiwi':15, 'strawberry':40, 'watermelon':100}\n",
        "\n",
        "    total_amount = 0\n",
        "\n",
        "    for fruit_name in fruits:\n",
        "        price = fruits[fruit_name]\n",
        "        amount_bought = int(input(f\"How many {fruit_name} do you want to buy: \"))\n",
        "        total_amount += (price * amount_bought)\n",
        "\n",
        "    print(f\"Your total amount is ${total_amount}\")\n",
        "\n",
        "if __name__ == '__main__':\n",
        "    main()"
      ],
      "metadata": {
        "id": "i0HCe2kq0aER"
      },
      "execution_count": null,
      "outputs": []
    }
  ]
}